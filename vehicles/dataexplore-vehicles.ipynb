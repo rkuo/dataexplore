{
 "cells": [
  {
   "cell_type": "markdown",
   "metadata": {},
   "source": [
    "# Data Exploration with Python\n",
    "\n",
    "This exercise mainly follows https://www.districtdatalabs.com/data-exploration-with-python-1 to learn: \n",
    "- data exploration methodologies,\n",
    "- libraries, API\n",
    "- python code.\n",
    "\n",
    "## Setup a local operation on a Macbook.\n",
    "\n",
    "```\n",
    "➜  dataexplore git:(master) ✗ pwd\n",
    "/Users/rkuo/code/machinelearning/dataexplore\n",
    "```\n",
    "\n",
    "- Create a project directory, called vehicles \n",
    "- Start a tensorflow container.\n",
    "![start a tensorflow container](https://www.evernote.com/l/AS6WmlGLtnZN67v4abl2O-Lkv4yWTkChhPYB/image.png)"
   ]
  },
  {
   "cell_type": "markdown",
   "metadata": {},
   "source": [
    "## Open a new python3 notebook and rename it to dataexplore-vehicles"
   ]
  },
  {
   "cell_type": "code",
   "execution_count": 5,
   "metadata": {},
   "outputs": [
    {
     "name": "stdout",
     "output_type": "stream",
     "text": [
      "/home/jovyan/work/vehicles\n"
     ]
    }
   ],
   "source": [
    "# double check the location in container, we need to map it later to save it or export it.\n",
    "!pwd"
   ]
  },
  {
   "cell_type": "markdown",
   "metadata": {},
   "source": [
    "## Create a data directory, Download file from source url, and unzip it."
   ]
  },
  {
   "cell_type": "code",
   "execution_count": 2,
   "metadata": {},
   "outputs": [],
   "source": [
    "import os\n",
    "import zipfile\n",
    "import requests\n",
    "\n",
    "def download_data(url, name, path='data'):\n",
    "   . if not os.path.exists(path):\n",
    "        os.mkdir(path)\n",
    "\n",
    "    response = requests.get(url)\n",
    "    with open(os.path.join(path, name), 'wb') as f:\n",
    "        f.write(response.content)\n",
    "\n",
    "    z = zipfile.ZipFile(os.path.join(path, 'vehicles.zip'))\n",
    "    z.extractall(path)\n",
    "\n",
    "VEHICLES = 'http://bit.ly/ddl-cars'\n",
    "\n",
    "download_data(VEHICLES, 'vehicles.zip')"
   ]
  },
  {
   "cell_type": "markdown",
   "metadata": {},
   "source": [
    " ## Load it into a pandas data frame."
   ]
  },
  {
   "cell_type": "code",
   "execution_count": 6,
   "metadata": {},
   "outputs": [
    {
     "name": "stderr",
     "output_type": "stream",
     "text": [
      "/opt/conda/lib/python3.6/site-packages/IPython/core/interactiveshell.py:2785: DtypeWarning: Columns (70,71,72,73,74,76,79) have mixed types. Specify dtype option on import or set low_memory=False.\n",
      "  interactivity=interactivity, compiler=compiler, result=result)\n"
     ]
    }
   ],
   "source": [
    "import pandas as pd\n",
    "\n",
    "path = 'data'\n",
    "vehicles = pd.read_csv(os.path.join(path, 'vehicles.csv'))"
   ]
  },
  {
   "cell_type": "markdown",
   "metadata": {},
   "source": [
    "The warning message \"/opt/conda/lib/python3.6/site-packages/IPython/core/interactiveshell.py:2785: DtypeWarning: Columns (70,71,72,73,74,76,79) have mixed types. Specify dtype option on import or set low_memory=False. interactivity=interactivity, compiler=compiler, result=result)\" is wiered, data only reach to col-CE, which is (26 x 2 + 5 = 57) columns, but 70 = 2 x 26 + 18. Since it is a warning, ignore."
   ]
  },
  {
   "cell_type": "code",
   "execution_count": 7,
   "metadata": {},
   "outputs": [],
   "source": [
    "# define an array of selected columns\n",
    "select_columns = ['make', 'model', 'year', 'displ', 'cylinders', 'trany', 'drive', 'VClass','fuelType','barrels08', 'city08', 'highway08', 'comb08', 'co2TailpipeGpm', 'fuelCost08']\n",
    "vehicles = vehicles[select_columns][vehicles.year <= 2016].drop_duplicates().dropna()\n",
    "vehicles = vehicles.sort_values(['make', 'model', 'year'])"
   ]
  },
  {
   "cell_type": "code",
   "execution_count": null,
   "metadata": {},
   "outputs": [],
   "source": []
  }
 ],
 "metadata": {
  "kernelspec": {
   "display_name": "Python 3",
   "language": "python",
   "name": "python3"
  },
  "language_info": {
   "codemirror_mode": {
    "name": "ipython",
    "version": 3
   },
   "file_extension": ".py",
   "mimetype": "text/x-python",
   "name": "python",
   "nbconvert_exporter": "python",
   "pygments_lexer": "ipython3",
   "version": "3.6.4"
  }
 },
 "nbformat": 4,
 "nbformat_minor": 2
}
