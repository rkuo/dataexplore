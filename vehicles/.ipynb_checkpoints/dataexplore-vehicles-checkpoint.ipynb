{
 "cells": [
  {
   "cell_type": "markdown",
   "metadata": {},
   "source": [
    "# Data Exploration with Python\n",
    "\n",
    "This exercise mainly follows https://www.districtdatalabs.com/data-exploration-with-python-1,\n",
    "to learn: \n",
    "- methodology,\n",
    "- libraries, API\n",
    "- python code.\n",
    "\n",
    "```\n",
    "➜  dataexplore git:(master) ✗ pwd\n",
    "/Users/rkuo/code/machinelearning/dataexplore\n",
    "```\n",
    "\n",
    "- Create a project directory, called vehicles \n",
    "- Start a tensorflow container, this is a local operation.\n",
    "![start a tensorflow container](https://www.evernote.com/l/AS6WmlGLtnZN67v4abl2O-Lkv4yWTkChhPYB/image.png)\n",
    "\n",
    "- Open a new python3 notebook and rename it to `dataexplore-vehicles`"
   ]
  },
  {
   "cell_type": "code",
   "execution_count": 2,
   "metadata": {},
   "outputs": [],
   "source": [
    "import os\n",
    "import zipfile\n",
    "import requests\n",
    "\n",
    "def download_data(url, name, path='data'):\n",
    "    if not os.path.exists(path):\n",
    "        os.mkdir(path)\n",
    "\n",
    "    response = requests.get(url)\n",
    "    with open(os.path.join(path, name), 'wb') as f:\n",
    "        f.write(response.content)\n",
    "\n",
    "    z = zipfile.ZipFile(os.path.join(path, 'vehicles.zip'))\n",
    "    z.extractall(path)\n",
    "\n",
    "VEHICLES = 'http://bit.ly/ddl-cars'\n",
    "\n",
    "download_data(VEHICLES, 'vehicles.zip')"
   ]
  },
  {
   "cell_type": "code",
   "execution_count": null,
   "metadata": {},
   "outputs": [],
   "source": []
  }
 ],
 "metadata": {
  "kernelspec": {
   "display_name": "Python 3",
   "language": "python",
   "name": "python3"
  },
  "language_info": {
   "codemirror_mode": {
    "name": "ipython",
    "version": 3
   },
   "file_extension": ".py",
   "mimetype": "text/x-python",
   "name": "python",
   "nbconvert_exporter": "python",
   "pygments_lexer": "ipython3",
   "version": "3.6.4"
  }
 },
 "nbformat": 4,
 "nbformat_minor": 2
}
